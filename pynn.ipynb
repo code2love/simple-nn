{
 "cells": [
  {
   "cell_type": "markdown",
   "metadata": {},
   "source": [
    "# Feed-Forward Neural Network with Python and Numpy\n",
    "\n",
    "In this notebook a simple but fully functional feed forward neural network is developed.\n",
    "Let's start with a rough sketch of the network architecture that we want to achive:\n",
    "\n",
    "<img src=\"network-architecture.PNG\" alt=\"Network Architecture\" style=\"width: 700px;\" />\n",
    "\n",
    "If we want an estimation $y_{pred}$ for the input value $x$, just start on the right side of the picture and follow the signal flow to the left.\n",
    "The symbols along the path have the following meaning:\n",
    "- $W^{(i)}$ is the weight matrix for the i'th fully connected layer\n",
    "- $b^{(i)}$ is the bias vector for the i'th layer\n",
    "- $z^{(i)} := W^{(i)} a^{(i)} + b^{(i)}$ is the activation value for the i'th layer\n",
    "- $f^{(i)}$ is the activation function of the i'th layer\n",
    "- $a^{(i)} := f^{(i)}(z^{(i)})$ is the output value of the i'th layer\n",
    "\n",
    "Now let's begin with importing the libraries which we need later:"
   ]
  },
  {
   "cell_type": "code",
   "execution_count": 21,
   "metadata": {},
   "outputs": [],
   "source": [
    "import numpy as np\n",
    "import matplotlib.pyplot as plt\n",
    "from matplotlib import cm"
   ]
  },
  {
   "cell_type": "markdown",
   "metadata": {},
   "source": [
    "The weight matrices for each layer are stored in a simple array. Initially all values are randomly normal distributed.\n",
    "\n",
    "With the matrix dimensions the number of neurons per layer can be controlled.\n",
    "\n",
    "| Layer | Neurons | Weight matrix | Mapping \n",
    "| :---: | :-----: | :-----------: | :-----:\n",
    "| Input | 2       | $W^{(1)} \\in \\mathbb{R}^{16 \\times 2}$ | $\\mathbb{R}^2 \\mapsto \\mathbb{R}^{16}$\n",
    "| Hidden| 16      | $W^{(2)} \\in \\mathbb{R}^{16 \\times 16}$| $\\mathbb{R}^{16} \\mapsto \\mathbb{R}^{16}$\n",
    "| Output| 1       | $W^{(3)} \\in \\mathbb{R}^{1 \\times 16}$ | $\\mathbb{R}^{16} \\mapsto \\mathbb{R}^{1}$"
   ]
  },
  {
   "cell_type": "code",
   "execution_count": 22,
   "metadata": {},
   "outputs": [],
   "source": [
    "W_layers = [\n",
    "    np.random.randn(16,2),\n",
    "    np.random.randn(16,16),\n",
    "    np.random.randn(1,16)\n",
    "]"
   ]
  },
  {
   "cell_type": "markdown",
   "metadata": {},
   "source": [
    "Also the bias vectors for the layers are stored in an array. Their dimension has to fit the dimension of the corresponding weight matrices."
   ]
  },
  {
   "cell_type": "code",
   "execution_count": 23,
   "metadata": {},
   "outputs": [],
   "source": [
    "b_layers = []\n",
    "for i in range(len(W_layers)):\n",
    "    b_layers.append(np.random.randn(W_layers[i].shape[0],1))"
   ]
  },
  {
   "cell_type": "markdown",
   "metadata": {},
   "source": [
    "Before we can start declaring the activation functions for the layers, first the activation functions need to be defined.\n",
    "\n",
    "As a non-linear activation the sigmoid function is widely used:"
   ]
  },
  {
   "cell_type": "code",
   "execution_count": 24,
   "metadata": {},
   "outputs": [],
   "source": [
    "def sigmoid_activation(x:np.ndarray):\n",
    "    \"\"\" Returns tuple.\n",
    "        First element: Vector containing output values\n",
    "        Second element: Vector containing diagonal elements of Jacobian df/dx\n",
    "    \"\"\"\n",
    "    out = 1 / (1 + np.exp(-x))\n",
    "    dout = out * (1 - out)\n",
    "    return (out, dout)"
   ]
  },
  {
   "cell_type": "markdown",
   "metadata": {},
   "source": [
    "The function not only returns the function values but also the first derivative values evaluated at $x$."
   ]
  },
  {
   "cell_type": "code",
   "execution_count": 25,
   "metadata": {},
   "outputs": [
    {
     "data": {
      "image/png": "[encoded data removed]",
      "text/plain": [
       "<Figure size 432x288 with 1 Axes>"
      ]
     },
     "metadata": {
      "needs_background": "light"
     },
     "output_type": "display_data"
    }
   ],
   "source": [
    "x = np.linspace(-5,5,100)\n",
    "y,dy = sigmoid_activation(x)\n",
    "plt.plot(x, y, label=\"y\")\n",
    "plt.plot(x, dy, label=\"dy\")\n",
    "plt.legend()\n",
    "plt.show()"
   ]
  },
  {
   "cell_type": "markdown",
   "metadata": {},
   "source": [
    "Besides the non-linear activation, a linear activation function is defined too. If we would only stick with the sigmoid and use it also for the output layer, then the output values would be bounded to the interval between 0 ... 1."
   ]
  },
  {
   "cell_type": "code",
   "execution_count": 26,
   "metadata": {},
   "outputs": [],
   "source": [
    "def linear_activation(x:np.ndarray):\n",
    "    \"\"\" Returns tuple.\n",
    "        First element: Vector containing output values\n",
    "        Second element: Vector containing diagonal elements of Jacobian df/dx\n",
    "    \"\"\"\n",
    "    out = x\n",
    "    dout = np.ones(x.shape)\n",
    "    return (out, dout)"
   ]
  },
  {
   "cell_type": "code",
   "execution_count": 27,
   "metadata": {},
   "outputs": [
    {
     "data": {
      "image/png": "[encoded data removed]",
      "text/plain": [
       "<Figure size 432x288 with 1 Axes>"
      ]
     },
     "metadata": {
      "needs_background": "light"
     },
     "output_type": "display_data"
    }
   ],
   "source": [
    "x = np.linspace(-5,5,100)\n",
    "y,dy = linear_activation(x)\n",
    "plt.plot(x, y, label=\"y\")\n",
    "plt.plot(x, dy, label=\"dy\")\n",
    "plt.legend()\n",
    "plt.show()"
   ]
  },
  {
   "cell_type": "markdown",
   "metadata": {},
   "source": [
    "Now the neccessary activation functions are defined and we can create an array which specifies which function we want to use for which layer:"
   ]
  },
  {
   "cell_type": "code",
   "execution_count": 28,
   "metadata": {},
   "outputs": [],
   "source": [
    "f_layers = [\n",
    "    sigmoid_activation,\n",
    "    sigmoid_activation,\n",
    "    linear_activation\n",
    "]"
   ]
  },
  {
   "cell_type": "markdown",
   "metadata": {},
   "source": [
    "The target function is just used as a ground truth that we want to learn. It is obviously non-linear in $x$:"
   ]
  },
  {
   "cell_type": "code",
   "execution_count": 29,
   "metadata": {},
   "outputs": [],
   "source": [
    "def target_function(x1, x2):\n",
    "    \"\"\" Ground truth that we want to learn.\n",
    "        R^2 -> R^1\n",
    "    \"\"\"\n",
    "    return 10*np.cos(x1 - x2)**2 + x1 - 2*x2"
   ]
  },
  {
   "cell_type": "markdown",
   "metadata": {},
   "source": [
    "Visualize target function:"
   ]
  },
  {
   "cell_type": "code",
   "execution_count": 30,
   "metadata": {},
   "outputs": [
    {
     "data": {
      "image/png": "[encoded data removed]",
      "text/plain": [
       "<Figure size 432x288 with 1 Axes>"
      ]
     },
     "metadata": {
      "needs_background": "light"
     },
     "output_type": "display_data"
    }
   ],
   "source": [
    "x1_validate = np.arange(-3, 3, 0.25)\n",
    "x2_validate = np.arange(-3, 3, 0.25)\n",
    "x1_validate, x2_validate = np.meshgrid(x1_validate, x2_validate)\n",
    "y_validate = target_function(x1_validate[:], x2_validate[:]).reshape(x1_validate.shape)\n",
    "\n",
    "fig, ax = plt.subplots(subplot_kw={\"projection\": \"3d\"})\n",
    "surf = ax.plot_surface(x1_validate, x2_validate, y_validate, cmap=cm.coolwarm, linewidth=0, antialiased=False)\n",
    "ax.view_init(3,60)\n",
    "plt.title(\"Target\")\n",
    "plt.show()"
   ]
  },
  {
   "cell_type": "markdown",
   "metadata": {},
   "source": [
    "In the forward pass, layer outputs $a^{(i)}$ and activation $z^{(i)}$ values are calculated from an input sample $x$.\n",
    "\n",
    "$z^{(1)} = W^{(1)}x + b^{(1)}$\n",
    "\n",
    "$a^{(1)} = f^{(1)}(z^{(1)})$\n",
    "\n",
    "$z^{(2)} = W^{(2)}a^{(1)} + b^{(2)}$\n",
    "\n",
    "$a^{(2)} = f^{(2)}(z^{(2)})$\n",
    "\n",
    "$z^{(3)} = W^{(3)}a^{(2)} + b^{(3)}$\n",
    "\n",
    "$a^{(3)} = y_{pred} = f^{(3)}(z^{(3)})$"
   ]
  },
  {
   "cell_type": "code",
   "execution_count": 31,
   "metadata": {},
   "outputs": [],
   "source": [
    "def forward_pass(x, W_layers, b_layers, f_layers):\n",
    "    \"\"\" Performs forward pass through neural network.\n",
    "        Returns layer output values (a's) and activation values (z's).\n",
    "    \"\"\"\n",
    "    z_layers = []\n",
    "    a_layers = []\n",
    "    a_pre = x.reshape((-1,1))\n",
    "    for i in range(len(W_layers)):\n",
    "        z_layers.append(np.hstack([W_layers[i], b_layers[i]]) @ np.vstack([a_pre, 1]))\n",
    "        a_pre,_ = f_layers[i](z_layers[i])\n",
    "        a_layers.append(a_pre)\n",
    "    return (a_layers, z_layers)"
   ]
  },
  {
   "cell_type": "markdown",
   "metadata": {},
   "source": [
    "In the backward pass, partial derivatives of the cost with respect to the weight matrices and bias vectors are calculated.\n",
    "Later those derivatives can be used to implement a gradient descent algorithm.\n",
    "\n",
    "**Derivative of cost with respect to weights:**\n",
    "\n",
    "$$\n",
    "\\begin{align*}\n",
    "\\frac{\\partial C}{\\partial W^{(i)}} &= \\frac{\\partial C}{\\partial a^{(i)}} \\cdot \\frac{\\partial a^{(i)}}{\\partial W^{(i)}} \\\\\n",
    "                                    &= \\frac{\\partial C}{\\partial a^{(i)}} \\cdot \\frac{\\partial a^{(i)}}{\\partial z^{(i)}} \\cdot \\frac{\\partial z^{(i)}}{\\partial W^{(i)}} \\\\\n",
    "                                    &= \\frac{\\partial C}{\\partial a^{(i)}} \\cdot \\frac{\\partial a^{(i)}}{\\partial z^{(i)}} \\cdot \\frac{(\\partial W^{(i)}a^{(i-1)} + b^{(i)})}{\\partial W^{(i)}} \\\\\n",
    "                                    &= \\frac{\\partial C}{\\partial a^{(i)}} \\cdot \\frac{\\partial a^{(i)}}{\\partial z^{(i)}} \\cdot (a^{(i-1)})^\\text{T} \\\\\n",
    "                                    &= \\frac{\\partial C}{\\partial a^{(i)}} \\cdot \\frac{\\partial f^{(i)}(z^{(i)})}{\\partial z^{(i)}} \\cdot (a^{(i-1)})^\\text{T} \\\\\n",
    "                                    &= \\delta^{(i)} \\cdot (a^{(i-1)})^\\text{T} \\quad(\\text{ with } \\delta^{(i)} = \\frac{\\partial C}{\\partial a^{(i)}} \\cdot \\frac{\\partial f^{(i)}(z^{(i)})}{\\partial z^{(i)}} \\ )\n",
    "\\end{align*}\n",
    "$$\n",
    "\n",
    "**Derivative of cost with respect to intermediate layer output:**\n",
    "\n",
    "$$\n",
    "\\begin{align*}\n",
    "\\frac{\\partial C}{\\partial a^{(i)}} &= \\frac{\\partial C}{\\partial a^{(i+1)}} \\cdot \\frac{\\partial a^{(i+1)}}{\\partial a^{(i)}} \\\\\n",
    "                                    &= \\frac{\\partial C}{\\partial a^{(i+1)}} \\cdot \\frac{\\partial a^{(i+1)}}{\\partial z^{(i+1)}} \\cdot \\frac{\\partial z^{(i+1)}}{\\partial a^{(i)}} \\\\\n",
    "                                    &= \\frac{\\partial C}{\\partial a^{(i+1)}} \\cdot \\frac{\\partial a^{(i+1)}}{\\partial z^{(i+1)}} \\cdot \\frac{\\partial (W^{(i+1)}a^{(i)} + b^{(i+1)})}{\\partial a^{(i)}} \\\\\n",
    "                                    &= \\frac{\\partial C}{\\partial a^{(i+1)}} \\cdot \\frac{\\partial a^{(i+1)}}{\\partial z^{(i+1)}} \\cdot W^{(i+1)} \\\\\n",
    "                                    &= \\frac{\\partial C}{\\partial a^{(i+1)}} \\cdot \\frac{\\partial f^{(i+1)}(z^{(i+1)})}{\\partial z^{(i+1)}} \\cdot W^{(i+1)} \\\\\n",
    "                                    &= \\delta^{(i+1)} \\cdot W^{(i+1)}\n",
    "\\end{align*}\n",
    "$$\n",
    "\n",
    "**Derivative of cost with respect to input $x$:**\n",
    "\n",
    "$$ \\frac{\\partial C}{\\partial a^{(i)}} =  \\delta^{(1)} \\cdot W^{(1)} $$\n",
    "\n",
    "**Derivative of cost with respect to final layer output:**\n",
    "\n",
    "$$ \\frac{\\partial C}{\\partial y_{pred}} $$\n",
    "\n",
    "**Derivative of cost with respect to bias:**\n",
    "\n",
    "$$\n",
    "\\begin{align*}\n",
    "\\frac{\\partial C}{\\partial b^{(i)}} &= \\frac{\\partial C}{\\partial a^{(i)}} \\cdot \\frac{\\partial a^{(i)}}{\\partial b^{(i)}} \\\\\n",
    "                                    &= \\frac{\\partial C}{\\partial a^{(i)}} \\cdot \\frac{\\partial a^{(i)}}{\\partial z^{(i)}} \\cdot \\frac{\\partial z^{(i)}}{\\partial b^{(i)}} \\\\\n",
    "                                    &= \\frac{\\partial C}{\\partial a^{(i)}} \\cdot \\frac{\\partial a^{(i)}}{\\partial z^{(i)}} \\cdot \\frac{(\\partial W^{(i)}a^{(i-1)} + b^{(i)})}{\\partial b^{(i)}} \\\\\n",
    "                                    &= \\frac{\\partial C}{\\partial a^{(i)}} \\cdot \\frac{\\partial a^{(i)}}{\\partial z^{(i)}} \\\\\n",
    "                                    &= \\frac{\\partial C}{\\partial a^{(i)}} \\cdot \\frac{\\partial f^{(i)}(z^{(i)})}{\\partial z^{(i)}} \\\\\n",
    "                                    &= \\delta^{(i)}\n",
    "\\end{align*}\n",
    "$$"
   ]
  },
  {
   "cell_type": "code",
   "execution_count": 32,
   "metadata": {},
   "outputs": [],
   "source": [
    "def backward_pass(x, d_cost, a_layers, z_layers, W_layers, f_layers):\n",
    "    h_layers = [x, *a_layers] # interpret input as 'layer 0' output\n",
    "    d_cost_a = d_cost         # derivative of cost w.r.t. current layer output\n",
    "    d_W_layers = []           # derivative of cost w.r.t. layer weights\n",
    "    d_b_layers = []           # derivative of cost w.r.t. layer bias\n",
    "    for i in range(len(W_layers)-1,-1,-1):\n",
    "        _,d_f = f_layers[i](z_layers[i])\n",
    "        d = d_cost_a * d_f.transpose()\n",
    "        d_cost_a = d @ W_layers[i]\n",
    "        d_W_layers.append(h_layers[i] @ d)\n",
    "        d_b_layers.append(d)\n",
    "    d_W_layers.reverse()\n",
    "    d_b_layers.reverse()\n",
    "    return (d_W_layers, d_b_layers)"
   ]
  },
  {
   "cell_type": "markdown",
   "metadata": {},
   "source": [
    "The cost function defines the objective that we want to minimize during the training of the neural network.\n",
    "Here we use the quadratic error between the predicted value $y$ and the ground truth $y^\\star$. The factor $0.5$ is there for convenience, because then the derivative becomes simple:\n",
    "\n",
    "$$\n",
    "\\begin{align*}\n",
    "\\frac{\\partial C}{\\partial y} = \\frac{\\partial \\frac{1}{2}(y - y^\\star)^2}{\\partial y} \\\\\n",
    "\\frac{\\partial C}{\\partial y} = y - y^\\star\n",
    "\\end{align*}\n",
    "$$"
   ]
  },
  {
   "cell_type": "code",
   "execution_count": 33,
   "metadata": {},
   "outputs": [],
   "source": [
    "def cost(y:np.ndarray, y_true:np.ndarray):\n",
    "    \"\"\" Cost function. Returns cost and cost gradient w.r.t. prediction.\"\"\"\n",
    "    c = 0.5*np.linalg.norm(y - y_true)**2\n",
    "    d_c = (y - y_true).transpose()\n",
    "    return (c, d_c)"
   ]
  },
  {
   "cell_type": "markdown",
   "metadata": {},
   "source": [
    "With all ingredients defined, it is time to train the neural network. For the training set values of the target function are randomly sampled:"
   ]
  },
  {
   "cell_type": "code",
   "execution_count": 34,
   "metadata": {},
   "outputs": [],
   "source": [
    "x_train = (1 - np.random.rand(2,200)*2)*3\n",
    "y_train = target_function(x_train[0,:], x_train[1,:])\n",
    "x_validate = np.vstack([x1_validate.flatten(), x2_validate.flatten()])\n",
    "y_validate = y_validate.flatten()"
   ]
  },
  {
   "cell_type": "markdown",
   "metadata": {},
   "source": [
    "The stochastic gradient descent training procedure goes as follows:\n",
    "1. Select an training example\n",
    "2. Perform a forward pass to compute the output\n",
    "3. Determine error and gradients\n",
    "4. Use gradients to update weights and bias with a small step-size\n",
    "5. Repeat steps 1-4 for all training examples\n",
    "\n",
    "This procedure is repeated for a certain number of iterations (either a fixed number or until the loss has converged). In the code below after each iteration also a validation loss is calculated by using samples which are not in the training set."
   ]
  },
  {
   "cell_type": "code",
   "execution_count": 35,
   "metadata": {},
   "outputs": [],
   "source": [
    "learning_rate = 1e-2\n",
    "n_iterations = 500\n",
    "loss_train = [0]*n_iterations\n",
    "loss_validate = [0]*n_iterations\n",
    "for i in range(n_iterations):\n",
    "    # Train\n",
    "    for j in range(x_train.shape[1]):\n",
    "        x = x_train[:,j].reshape((-1,1))\n",
    "        y = y_train[j].reshape((1,1))\n",
    "        a_layers, z_layers = forward_pass(x, W_layers, b_layers, f_layers)\n",
    "        y_pred = a_layers[-1]\n",
    "        c,d_c = cost(y_pred, y)\n",
    "        d_W_layers, d_b_layers = backward_pass(x, d_c, a_layers, z_layers, W_layers, f_layers)\n",
    "        for k in range(len(W_layers)):\n",
    "            W_layers[k] = W_layers[k] - (learning_rate*d_W_layers[k]).transpose()\n",
    "            b_layers[k] = b_layers[k] - (learning_rate*d_b_layers[k]).transpose()\n",
    "        loss_train[i] = loss_train[i] + c / x_train.shape[1]\n",
    "    # Validate\n",
    "    for j in range(x_validate.shape[1]):\n",
    "        x = x_validate[:,j].reshape((-1,1))\n",
    "        y = y_validate[j].reshape((1,1))\n",
    "        a_layers, z_layers = forward_pass(x, W_layers, b_layers, f_layers)\n",
    "        y_pred = a_layers[-1]\n",
    "        c,d_c = cost(y_pred, y)\n",
    "        loss_validate[i] = loss_validate[i] + c / x_validate.shape[1]"
   ]
  },
  {
   "cell_type": "markdown",
   "metadata": {},
   "source": [
    "Have a look at the loss observed during training:"
   ]
  },
  {
   "cell_type": "code",
   "execution_count": 36,
   "metadata": {},
   "outputs": [
    {
     "data": {
      "image/png": "[encoded data removed]",
      "text/plain": [
       "<Figure size 432x288 with 1 Axes>"
      ]
     },
     "metadata": {
      "needs_background": "light"
     },
     "output_type": "display_data"
    }
   ],
   "source": [
    "plt.plot(loss_train, label=\"training\")\n",
    "plt.plot(loss_validate, label=\"validation\")\n",
    "plt.xlabel(\"iteration\")\n",
    "plt.ylabel(\"avg. loss\")\n",
    "plt.legend()\n",
    "plt.show()"
   ]
  },
  {
   "cell_type": "markdown",
   "metadata": {},
   "source": [
    "Finally we visualize the predictions of the neural network. Ideally the graph should look similar to the graph plotted when we inspected the target function."
   ]
  },
  {
   "cell_type": "code",
   "execution_count": 37,
   "metadata": {},
   "outputs": [],
   "source": [
    "y_pred = []\n",
    "for i in range(x_validate.shape[1]):\n",
    "    x = x_validate[:,i].reshape((-1,1))\n",
    "    a_layers, z_layers = forward_pass(x, W_layers, b_layers, f_layers)\n",
    "    y_pred.append(a_layers[-1])"
   ]
  },
  {
   "cell_type": "code",
   "execution_count": 38,
   "metadata": {},
   "outputs": [
    {
     "data": {
      "image/png": "[encoded data removed]",
      "text/plain": [
       "<Figure size 432x288 with 1 Axes>"
      ]
     },
     "metadata": {
      "needs_background": "light"
     },
     "output_type": "display_data"
    }
   ],
   "source": [
    "y_pred = np.array(y_pred).reshape(x1_validate.shape)\n",
    "fig, ax = plt.subplots(subplot_kw={\"projection\": \"3d\"})\n",
    "surf = ax.plot_surface(x1_validate, x2_validate, y_pred, cmap=cm.coolwarm, linewidth=0, antialiased=False)\n",
    "ax.view_init(3,60)\n",
    "plt.title(\"Prediction\")\n",
    "plt.show()"
   ]
  },
  {
   "cell_type": "code",
   "execution_count": null,
   "metadata": {},
   "outputs": [],
   "source": []
  }
 ],
 "metadata": {
  "kernelspec": {
   "display_name": "Python 3",
   "language": "python",
   "name": "python3"
  },
  "language_info": {
   "codemirror_mode": {
    "name": "ipython",
    "version": 3
   },
   "file_extension": ".py",
   "mimetype": "text/x-python",
   "name": "python",
   "nbconvert_exporter": "python",
   "pygments_lexer": "ipython3",
   "version": "3.8.5"
  }
 },
 "nbformat": 4,
 "nbformat_minor": 4
}
